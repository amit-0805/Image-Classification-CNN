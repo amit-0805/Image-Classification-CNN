{
 "cells": [
  {
   "cell_type": "code",
   "execution_count": 1,
   "id": "a4529802",
   "metadata": {},
   "outputs": [
    {
     "name": "stdout",
     "output_type": "stream",
     "text": [
      "WARNING:tensorflow:From C:\\Users\\amita\\anaconda\\lib\\site-packages\\keras\\src\\losses.py:2976: The name tf.losses.sparse_softmax_cross_entropy is deprecated. Please use tf.compat.v1.losses.sparse_softmax_cross_entropy instead.\n",
      "\n"
     ]
    }
   ],
   "source": [
    "import tensorflow as tf\n",
    "from keras.preprocessing.image import ImageDataGenerator"
   ]
  },
  {
   "cell_type": "code",
   "execution_count": 2,
   "id": "b7612175",
   "metadata": {},
   "outputs": [
    {
     "data": {
      "text/plain": [
       "'2.15.0'"
      ]
     },
     "execution_count": 2,
     "metadata": {},
     "output_type": "execute_result"
    }
   ],
   "source": [
    "tf.__version__"
   ]
  },
  {
   "cell_type": "markdown",
   "id": "ec8d4483",
   "metadata": {},
   "source": [
    "## Preprocessing the training set to overcome overfitting"
   ]
  },
  {
   "cell_type": "markdown",
   "id": "bb16bd33",
   "metadata": {},
   "source": [
    "### Image Augmentation"
   ]
  },
  {
   "cell_type": "code",
   "execution_count": 3,
   "id": "67428c9c",
   "metadata": {},
   "outputs": [
    {
     "name": "stdout",
     "output_type": "stream",
     "text": [
      "Found 8000 images belonging to 2 classes.\n"
     ]
    }
   ],
   "source": [
    "train_datagen = ImageDataGenerator(\n",
    "        rescale=1./255,\n",
    "        shear_range=0.2,\n",
    "        zoom_range=0.2,\n",
    "        horizontal_flip=True)\n",
    "# rescale is feature scaling it divides each pixel by 255 we normalize it by making it between 0 and 1 this is done to prevent overfitting\n",
    "training_set = train_datagen.flow_from_directory(\n",
    "        r\"C:\\Users\\amita\\Desktop\\Deep Learning\\CNN\\Section+40+-+Convolutional+Neural+Networks+(CNN)\\Section 40 - Convolutional Neural Networks (CNN)\\dataset\\training_set\",\n",
    "        target_size=(64, 64),\n",
    "        batch_size=32,\n",
    "        class_mode='binary')\n",
    "# flow from direcotry will simply connect our augmnetation tool ie train_datagen to all images in training set, target size is the final size of pics which are fed into a CNN class mode is binary or categorial as we have only ctas and dogs so only binary "
   ]
  },
  {
   "cell_type": "code",
   "execution_count": 4,
   "id": "0296eac8",
   "metadata": {},
   "outputs": [
    {
     "name": "stdout",
     "output_type": "stream",
     "text": [
      "Found 2000 images belonging to 2 classes.\n"
     ]
    }
   ],
   "source": [
    "test_datagen = ImageDataGenerator(rescale=1./255)\n",
    "#sheering zoom is not touched as its new images as we only transform and not fit s=, if we fit then training will be worst\n",
    "testing_set = test_datagen.flow_from_directory(\n",
    "        r\"C:\\Users\\amita\\Desktop\\Deep Learning\\CNN\\Section+40+-+Convolutional+Neural+Networks+(CNN)\\Section 40 - Convolutional Neural Networks (CNN)\\dataset\\test_set\",\n",
    "        target_size=(64, 64),\n",
    "        batch_size=32,\n",
    "        class_mode='binary')\n",
    "#target size need to be same as training, same batch as well and binary as 2 classes"
   ]
  },
  {
   "cell_type": "code",
   "execution_count": 5,
   "id": "961e2e7b",
   "metadata": {},
   "outputs": [
    {
     "name": "stdout",
     "output_type": "stream",
     "text": [
      "WARNING:tensorflow:From C:\\Users\\amita\\anaconda\\lib\\site-packages\\keras\\src\\backend.py:873: The name tf.get_default_graph is deprecated. Please use tf.compat.v1.get_default_graph instead.\n",
      "\n"
     ]
    }
   ],
   "source": [
    "cnn = tf.keras.models.Sequential()"
   ]
  },
  {
   "cell_type": "code",
   "execution_count": 6,
   "id": "728fd526",
   "metadata": {},
   "outputs": [],
   "source": [
    "cnn.add(tf.keras.layers.Conv2D(filters=32, kernel_size=3, activation='relu', input_shape = [64,64,3]))\n",
    "#first conv layer, filters is the no of feature detectors,kernal_size is 3X3 ie the size of feature detector and a activation function of relu, input_shape of our input as coloured images so rgb and resized to (64,64) so input_shape = (64,64,3)"
   ]
  },
  {
   "cell_type": "code",
   "execution_count": 7,
   "id": "5e5efd8d",
   "metadata": {},
   "outputs": [
    {
     "name": "stdout",
     "output_type": "stream",
     "text": [
      "WARNING:tensorflow:From C:\\Users\\amita\\anaconda\\lib\\site-packages\\keras\\src\\layers\\pooling\\max_pooling2d.py:161: The name tf.nn.max_pool is deprecated. Please use tf.nn.max_pool2d instead.\n",
      "\n"
     ]
    }
   ],
   "source": [
    "#Pooling\n",
    "cnn.add(tf.keras.layers.MaxPool2D(pool_size=2, strides=2))\n",
    "#in padding -> 'valid' means the extra white space is ignored in pooling if the pooling is in end of image and 'same' adds extra values of 0's to make the complete square"
   ]
  },
  {
   "cell_type": "code",
   "execution_count": 8,
   "id": "c59bfc1d",
   "metadata": {},
   "outputs": [],
   "source": [
    "cnn.add(tf.keras.layers.Conv2D(filters=32, kernel_size=3, activation='relu'))\n",
    "#2nd conv layer\n",
    "cnn.add(tf.keras.layers.MaxPool2D(pool_size=2, strides=2))\n",
    "#pooling for 2nd later\n",
    "#input_layer is removed beacuse it needs to connect the first layer to the input shape of images and 2nd layer doesrt need that"
   ]
  },
  {
   "cell_type": "code",
   "execution_count": 9,
   "id": "e59f23e9",
   "metadata": {},
   "outputs": [],
   "source": [
    "# Flatterning to make it a 1d vector\n",
    "cnn.add(tf.keras.layers.Flatten())"
   ]
  },
  {
   "cell_type": "code",
   "execution_count": 10,
   "id": "1808723a",
   "metadata": {},
   "outputs": [],
   "source": [
    "#fully connected layer\n",
    "cnn.add(tf.keras.layers.Dense(units=128, activation='relu'))"
   ]
  },
  {
   "cell_type": "code",
   "execution_count": 11,
   "id": "4e004170",
   "metadata": {},
   "outputs": [],
   "source": [
    "#output layer\n",
    "cnn.add(tf.keras.layers.Dense(units=1, activation='sigmoid'))\n",
    "#for multiclass classification softmax activation function"
   ]
  },
  {
   "cell_type": "code",
   "execution_count": 12,
   "id": "ac119fd4",
   "metadata": {},
   "outputs": [
    {
     "name": "stdout",
     "output_type": "stream",
     "text": [
      "WARNING:tensorflow:From C:\\Users\\amita\\anaconda\\lib\\site-packages\\keras\\src\\optimizers\\__init__.py:309: The name tf.train.Optimizer is deprecated. Please use tf.compat.v1.train.Optimizer instead.\n",
      "\n"
     ]
    }
   ],
   "source": [
    "cnn.compile(optimizer='adam', loss = 'binary_crossentropy', metrics=['accuracy'])"
   ]
  },
  {
   "cell_type": "code",
   "execution_count": 13,
   "id": "037b9951",
   "metadata": {},
   "outputs": [
    {
     "name": "stdout",
     "output_type": "stream",
     "text": [
      "Epoch 1/25\n",
      "WARNING:tensorflow:From C:\\Users\\amita\\anaconda\\lib\\site-packages\\keras\\src\\utils\\tf_utils.py:492: The name tf.ragged.RaggedTensorValue is deprecated. Please use tf.compat.v1.ragged.RaggedTensorValue instead.\n",
      "\n",
      "WARNING:tensorflow:From C:\\Users\\amita\\anaconda\\lib\\site-packages\\keras\\src\\engine\\base_layer_utils.py:384: The name tf.executing_eagerly_outside_functions is deprecated. Please use tf.compat.v1.executing_eagerly_outside_functions instead.\n",
      "\n",
      "250/250 [==============================] - 43s 167ms/step - loss: 0.6646 - accuracy: 0.5943 - val_loss: 0.6336 - val_accuracy: 0.6220\n",
      "Epoch 2/25\n",
      "250/250 [==============================] - 38s 150ms/step - loss: 0.5879 - accuracy: 0.6891 - val_loss: 0.5589 - val_accuracy: 0.7210\n",
      "Epoch 3/25\n",
      "250/250 [==============================] - 61s 242ms/step - loss: 0.5374 - accuracy: 0.7272 - val_loss: 0.4977 - val_accuracy: 0.7575\n",
      "Epoch 4/25\n",
      "250/250 [==============================] - 43s 174ms/step - loss: 0.5029 - accuracy: 0.7510 - val_loss: 0.4981 - val_accuracy: 0.7410\n",
      "Epoch 5/25\n",
      "250/250 [==============================] - 38s 152ms/step - loss: 0.4821 - accuracy: 0.7649 - val_loss: 0.4995 - val_accuracy: 0.7660\n",
      "Epoch 6/25\n",
      "250/250 [==============================] - 36s 145ms/step - loss: 0.4638 - accuracy: 0.7845 - val_loss: 0.4879 - val_accuracy: 0.7740\n",
      "Epoch 7/25\n",
      "250/250 [==============================] - 36s 143ms/step - loss: 0.4411 - accuracy: 0.7908 - val_loss: 0.4713 - val_accuracy: 0.7685\n",
      "Epoch 8/25\n",
      "250/250 [==============================] - 39s 154ms/step - loss: 0.4329 - accuracy: 0.7977 - val_loss: 0.5157 - val_accuracy: 0.7680\n",
      "Epoch 9/25\n",
      "250/250 [==============================] - 44s 174ms/step - loss: 0.4252 - accuracy: 0.8031 - val_loss: 0.5282 - val_accuracy: 0.7605\n",
      "Epoch 10/25\n",
      "250/250 [==============================] - 42s 169ms/step - loss: 0.4032 - accuracy: 0.8141 - val_loss: 0.4905 - val_accuracy: 0.7790\n",
      "Epoch 11/25\n",
      "250/250 [==============================] - 32s 128ms/step - loss: 0.3926 - accuracy: 0.8175 - val_loss: 0.5323 - val_accuracy: 0.7695\n",
      "Epoch 12/25\n",
      "250/250 [==============================] - 31s 124ms/step - loss: 0.3822 - accuracy: 0.8254 - val_loss: 0.4759 - val_accuracy: 0.7790\n",
      "Epoch 13/25\n",
      "250/250 [==============================] - 31s 125ms/step - loss: 0.3726 - accuracy: 0.8326 - val_loss: 0.4690 - val_accuracy: 0.7910\n",
      "Epoch 14/25\n",
      "250/250 [==============================] - 31s 124ms/step - loss: 0.3618 - accuracy: 0.8365 - val_loss: 0.4502 - val_accuracy: 0.7955\n",
      "Epoch 15/25\n",
      "250/250 [==============================] - 31s 124ms/step - loss: 0.3477 - accuracy: 0.8443 - val_loss: 0.4682 - val_accuracy: 0.7960\n",
      "Epoch 16/25\n",
      "250/250 [==============================] - 31s 124ms/step - loss: 0.3320 - accuracy: 0.8531 - val_loss: 0.4643 - val_accuracy: 0.8060\n",
      "Epoch 17/25\n",
      "250/250 [==============================] - 30s 122ms/step - loss: 0.3272 - accuracy: 0.8566 - val_loss: 0.4959 - val_accuracy: 0.7875\n",
      "Epoch 18/25\n",
      "250/250 [==============================] - 31s 122ms/step - loss: 0.3263 - accuracy: 0.8564 - val_loss: 0.4994 - val_accuracy: 0.7905\n",
      "Epoch 19/25\n",
      "250/250 [==============================] - 30s 122ms/step - loss: 0.3000 - accuracy: 0.8710 - val_loss: 0.4943 - val_accuracy: 0.8050\n",
      "Epoch 20/25\n",
      "250/250 [==============================] - 31s 122ms/step - loss: 0.2847 - accuracy: 0.8811 - val_loss: 0.4879 - val_accuracy: 0.7995\n",
      "Epoch 21/25\n",
      "250/250 [==============================] - 30s 121ms/step - loss: 0.2785 - accuracy: 0.8799 - val_loss: 0.4900 - val_accuracy: 0.8155\n",
      "Epoch 22/25\n",
      "250/250 [==============================] - 30s 121ms/step - loss: 0.2715 - accuracy: 0.8813 - val_loss: 0.5655 - val_accuracy: 0.7805\n",
      "Epoch 23/25\n",
      "250/250 [==============================] - 30s 121ms/step - loss: 0.2549 - accuracy: 0.8976 - val_loss: 0.5935 - val_accuracy: 0.7715\n",
      "Epoch 24/25\n",
      "250/250 [==============================] - 30s 120ms/step - loss: 0.2464 - accuracy: 0.8957 - val_loss: 0.5267 - val_accuracy: 0.8130\n",
      "Epoch 25/25\n",
      "250/250 [==============================] - 30s 120ms/step - loss: 0.2441 - accuracy: 0.9016 - val_loss: 0.5423 - val_accuracy: 0.7980\n"
     ]
    },
    {
     "data": {
      "text/plain": [
       "<keras.src.callbacks.History at 0x2767fc37a90>"
      ]
     },
     "execution_count": 13,
     "metadata": {},
     "output_type": "execute_result"
    }
   ],
   "source": [
    "cnn.fit(x = training_set, validation_data= testing_set, epochs=25)"
   ]
  },
  {
   "cell_type": "code",
   "execution_count": 16,
   "id": "dacc1404",
   "metadata": {},
   "outputs": [
    {
     "name": "stdout",
     "output_type": "stream",
     "text": [
      "1/1 [==============================] - 0s 26ms/step\n"
     ]
    }
   ],
   "source": [
    "import numpy as np\n",
    "from keras.preprocessing import image\n",
    "test_image = image.load_img(r\"C:\\Users\\amita\\Desktop\\Deep Learning\\CNN\\Section+40+-+Convolutional+Neural+Networks+(CNN)\\Section 40 - Convolutional Neural Networks (CNN)\\dataset\\single_prediction\\cat_or_dog_2.jpg\", target_size=(64,64))\n",
    "#convert pil format of the pic into a array\n",
    "test_image = image.img_to_array(test_image)\n",
    "#contain the image int batch as we trained cnn on batches\n",
    "test_image = np.expand_dims(test_image, axis = 0)\n",
    "result = cnn.predict(test_image/255.0)\n",
    "training_set.class_indices\n",
    "if result[0][0] > 0.5:\n",
    "    prediction = 'dog'\n",
    "else:\n",
    "    prediction = 'cat'"
   ]
  },
  {
   "cell_type": "code",
   "execution_count": 17,
   "id": "35e2d934",
   "metadata": {},
   "outputs": [
    {
     "name": "stdout",
     "output_type": "stream",
     "text": [
      "cat\n"
     ]
    }
   ],
   "source": [
    "print(prediction)"
   ]
  },
  {
   "cell_type": "code",
   "execution_count": 18,
   "id": "58e7f6f0",
   "metadata": {},
   "outputs": [
    {
     "name": "stdout",
     "output_type": "stream",
     "text": [
      "1/1 [==============================] - 0s 22ms/step\n"
     ]
    }
   ],
   "source": [
    "import numpy as np\n",
    "from keras.preprocessing import image\n",
    "test_image = image.load_img(r\"C:\\Users\\amita\\Desktop\\Deep Learning\\CNN\\Section+40+-+Convolutional+Neural+Networks+(CNN)\\Section 40 - Convolutional Neural Networks (CNN)\\dataset\\single_prediction\\cat_or_dog_1.jpg\", target_size=(64,64))\n",
    "#convert pil format of the pic into a array\n",
    "test_image = image.img_to_array(test_image)\n",
    "#contain the image int batch as we trained cnn on batches\n",
    "test_image = np.expand_dims(test_image, axis = 0)\n",
    "result = cnn.predict(test_image/255.0)\n",
    "training_set.class_indices\n",
    "if result[0][0] > 0.5:\n",
    "    prediction = 'dog'\n",
    "else:\n",
    "    prediction = 'cat'"
   ]
  },
  {
   "cell_type": "code",
   "execution_count": 19,
   "id": "c92aacdf",
   "metadata": {},
   "outputs": [
    {
     "name": "stdout",
     "output_type": "stream",
     "text": [
      "dog\n"
     ]
    }
   ],
   "source": [
    "print(prediction)"
   ]
  },
  {
   "cell_type": "code",
   "execution_count": null,
   "id": "eba1f626",
   "metadata": {},
   "outputs": [],
   "source": []
  }
 ],
 "metadata": {
  "kernelspec": {
   "display_name": "Python 3 (ipykernel)",
   "language": "python",
   "name": "python3"
  },
  "language_info": {
   "codemirror_mode": {
    "name": "ipython",
    "version": 3
   },
   "file_extension": ".py",
   "mimetype": "text/x-python",
   "name": "python",
   "nbconvert_exporter": "python",
   "pygments_lexer": "ipython3",
   "version": "3.10.9"
  }
 },
 "nbformat": 4,
 "nbformat_minor": 5
}
